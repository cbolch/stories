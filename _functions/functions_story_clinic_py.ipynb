{
 "cells": [
  {
   "cell_type": "markdown",
   "metadata": {},
   "source": [
    "## Sheldon Cooper's Relationship Agreement\n",
    "\n",
    "In the *Big Bang Theory* TV series, the show's resident genius - Sheldon Cooper - enjoys creating legally-binding agreements that specify the particulars of any relationship he is presently in.  His budding romance with Amy is regulated by a relationship agreement, as is his relationship with his roommate, Leonard Hofstadter. \n"
   ]
  },
  {
   "cell_type": "markdown",
   "metadata": {},
   "source": [
    "![alt text](cooper_agreement.jpg)"
   ]
  },
  {
   "cell_type": "markdown",
   "metadata": {},
   "source": [
    "## Python Functions\n",
    "\n",
    "The fundamental concept behind functions is the notion of a contract.  Just as Sheldon's relationship and roommate agreements ensure that the parties involved will act in regular and predictable ways, so too the interface to a function is like a contract.  If a call to a function passes the correct arguments in the correct order, a well written function responds in a predictable way, providing the promised output. \n",
    "\n",
    "Counterintuitively, the first step in creating a function is to define what it will do.  I say \"counterintuitively\" because most programmers simply dive right in and start writing code.  This strategy works well for small and rather simple programs.  However, you'll quickly run into trouble when the complexity begins to increase.  For that reason, seasoned software developers usually begin by writing a specification (spec) - a document that spells out the terms of the contract.  A well-written specification typically includes interface documentation as well as pseudocode, a clear statement in plain English of the steps to be taken to accomplish the function's task.\n",
    "\n",
    "Let's illustrate this process by writing a spec for a rather simple function called *multiply.* Here's the initial specification.  \n",
    "\n",
    "The multiply() function takes two arguments (arg_1, arg_2), multiplies them, and returns the result.\n",
    "\n",
    "Because this function is so simple, we won't bother with the pseudocode at this point.  For more complex functions, however,  pseudocode is strongly recommended as it helps you understand the flow and logic of your program before you start coding. With all that said, here's a first look at the code. \n"
   ]
  },
  {
   "cell_type": "code",
   "execution_count": 6,
   "metadata": {},
   "outputs": [],
   "source": [
    "\n",
    "def multiply(arg_1, arg_2):\n",
    "    '''This function takes two arguments (arg_1, arg2), multiplies them, and returns the result.  \n",
    "    '''\n",
    "    return(arg_1 * arg_2)\n",
    "\n",
    "# end multiply() \n"
   ]
  },
  {
   "cell_type": "markdown",
   "metadata": {},
   "source": [
    "This is a straightforward function, if there ever was one.  Even so, a couple points need to be highlighted.  Consider, for example, the documentation (doc) string immediately following the function definition.  As you can see, this string is enclosed by three single quotes '''.  The information in a doc string displays whenever one runs help() on a given function.  Here's what you get when you run the command:"
   ]
  },
  {
   "cell_type": "code",
   "execution_count": 7,
   "metadata": {},
   "outputs": [
    {
     "name": "stdout",
     "output_type": "stream",
     "text": [
      "Help on function multiply in module __main__:\n",
      "\n",
      "multiply(arg_1, arg_2)\n",
      "    This function takes two arguments (arg_1, arg2), multiplies them, and returns the result.\n",
      "\n"
     ]
    }
   ],
   "source": [
    "help(multiply)"
   ]
  },
  {
   "cell_type": "markdown",
   "metadata": {},
   "source": [
    "In his wonderful book, *Python without Fear,* Brian Overland makes the following points about doc strings (p. 322).  You'll want to keep these in mind as you create doc strings for your functions.\n",
    "\n",
    "1. The doc string must be the first statement after the beginning (header) of the function definition.\n",
    "2. Normal indentation rules apply.  The doc string must be indented under the heading of the definition, just as any\n",
    "   statement.\n",
    "3. The indentation requirement applies only to the first physical line. However, the cleanest style is to continue the\n",
    "   indentation of the first line.\n",
    "4. You can use any kind of quotation marks.  However, the literal quote marks (''') enable you to write doc strings\n",
    "   that span any number of physical lines.\n",
    "   \n",
    "The last thing we need to point out is the comment at the end of the function definition.  The pound sign (#) indicates that anything following it is a comment.  In this case, we mark the end of the function with a comment.  When developing a module containing multiple functions, best practice encourages the placement of comments at the end of each function.  This helps you to clearly see where one function ends and another begins."
   ]
  },
  {
   "cell_type": "markdown",
   "metadata": {},
   "source": [
    "## The Broken Contract\n",
    "\n",
    "Once a function has been developed, it's always best to rigorously test it before moving it to production.  Most programmers dislike testing as it's always more fun to write code than to debug it.  Nevertheless, testing is an incredibly important part of the development process, especially if your aim is to write \"bullet-proof\" code.  So to do this, let's test our new multiply() function by calling it in a variety of ways."
   ]
  },
  {
   "cell_type": "code",
   "execution_count": 4,
   "metadata": {},
   "outputs": [
    {
     "data": {
      "text/plain": [
       "4"
      ]
     },
     "execution_count": 4,
     "metadata": {},
     "output_type": "execute_result"
    }
   ],
   "source": [
    "# Call multiply with two integers.\n",
    "multiply(2, 2)"
   ]
  },
  {
   "cell_type": "code",
   "execution_count": 5,
   "metadata": {},
   "outputs": [
    {
     "data": {
      "text/plain": [
       "10.56"
      ]
     },
     "execution_count": 5,
     "metadata": {},
     "output_type": "execute_result"
    }
   ],
   "source": [
    "# Call multiply with two floats.\n",
    "multiply(2.2, 4.8)"
   ]
  },
  {
   "cell_type": "code",
   "execution_count": 3,
   "metadata": {},
   "outputs": [
    {
     "data": {
      "text/plain": [
       "'Sheldon Roommate Agreement Sheldon Roommate Agreement '"
      ]
     },
     "execution_count": 3,
     "metadata": {},
     "output_type": "execute_result"
    }
   ],
   "source": [
    "# Call multiply with an integer and a string.\n",
    "multiply('Sheldon Roommate Agreement ', 2)"
   ]
  },
  {
   "cell_type": "markdown",
   "metadata": {},
   "source": [
    "The first two calls to multiply() return exactly what we expect.  If you pass numbers - either integers or floats - the function multiplies them and returns the correct result.  However, the third call is somewhat surprising.  If we pass a string and a number, the function multiplies the string by the number requested.  Most programming languages would not do this.  Instead, they will complain that the multiplication operator only works with numeric datatypes.  But not Python!  Python has a certain level of intelligence built into this operator.  Behind the scenes, the interpreter checks the datatypes of the two arguments and does a sensible thing, either multiplying numbers or duplicating strings.\n",
    "\n",
    "But what happens if we try to multiply our string two and a half times?\n"
   ]
  },
  {
   "cell_type": "code",
   "execution_count": 4,
   "metadata": {
    "scrolled": true
   },
   "outputs": [
    {
     "ename": "TypeError",
     "evalue": "can't multiply sequence by non-int of type 'float'",
     "output_type": "error",
     "traceback": [
      "\u001b[1;31m---------------------------------------------------------------------------\u001b[0m",
      "\u001b[1;31mTypeError\u001b[0m                                 Traceback (most recent call last)",
      "\u001b[1;32m<ipython-input-4-cdf99f7eb7cb>\u001b[0m in \u001b[0;36m<module>\u001b[1;34m()\u001b[0m\n\u001b[1;32m----> 1\u001b[1;33m \u001b[0mmultiply\u001b[0m\u001b[1;33m(\u001b[0m\u001b[1;36m2.5\u001b[0m\u001b[1;33m,\u001b[0m \u001b[1;34m'Sheldon Roommate Agreement '\u001b[0m\u001b[1;33m)\u001b[0m\u001b[1;33m\u001b[0m\u001b[0m\n\u001b[0m",
      "\u001b[1;32m<ipython-input-2-9a17ec4e3052>\u001b[0m in \u001b[0;36mmultiply\u001b[1;34m(arg_1, arg_2)\u001b[0m\n\u001b[0;32m      3\u001b[0m     '''This function takes two arguments (arg_1, arg2), multiplies them, and returns the result.  \n\u001b[0;32m      4\u001b[0m     '''\n\u001b[1;32m----> 5\u001b[1;33m     \u001b[1;32mreturn\u001b[0m\u001b[1;33m(\u001b[0m\u001b[0marg_1\u001b[0m \u001b[1;33m*\u001b[0m \u001b[0marg_2\u001b[0m\u001b[1;33m)\u001b[0m\u001b[1;33m\u001b[0m\u001b[0m\n\u001b[0m\u001b[0;32m      6\u001b[0m \u001b[1;33m\u001b[0m\u001b[0m\n\u001b[0;32m      7\u001b[0m \u001b[1;31m# end multiply()\u001b[0m\u001b[1;33m\u001b[0m\u001b[1;33m\u001b[0m\u001b[0m\n",
      "\u001b[1;31mTypeError\u001b[0m: can't multiply sequence by non-int of type 'float'"
     ]
    }
   ],
   "source": [
    "multiply(2.5, 'Sheldon Roommate Agreement ')"
   ]
  },
  {
   "cell_type": "markdown",
   "metadata": {},
   "source": [
    "Apparently, there are limits to Python's intelligence!  When our function is called this way, the interpreter generates an ugly *TypeError* and highlights the offending line with an arrow.  The error message essentially says that we cannot multiply a string by a float, just whole numbers (i.e. integers).\n",
    "\n",
    "## Test and Verify\n",
    "\n",
    "In the absence of any error-handling code, this is what happens.  The interpreter blows up and brings the currently executing code to a screeching halt.  The problem is that our function currently lacks any way of gently handling problems like this.  In other words, we need to practice what's called, \"defensive programming.\"  When creating a new function, defensive programming practices are critically important, especially in large systems where a function call might be buried three or four levels deep.\n",
    "\n",
    "Because Python is a *dynamically typed* language, multiply's two arguments (arg_1 and arg_2) can be any datatype you wish.  We can pass integers, floats, strings, even lists and dictionaries.  Python only blows up when it encounters an operation inside the function that doesn't support the datatypes.  For those who've programmed in other languages such as C, the answer appears to be simple.  Just check the datatypes upfront, at the start of the function.  But this is not the Python way.  Instead, Python encourages what's known as *duck typing.*  The idea is simple.  If it looks like a duck, waddles like a duck, and quacks like a duck, then why validate that it's a duck?  Or stated in programming terms, don't bother to check datatypes.  Let Python do that for you.  Unfortunately, this still leaves us with the problem of handling errors gracefully.  \n",
    "\n",
    "Python's answer is to enclose code in *try* block(s).  What makes *try* blocks so appealing is that any errors raised will be handled gracefully in the *except* block, giving you a chance to avoid messy code meltdowns.\n",
    "\n",
    "Here's what our function looks like after being rewritten this way:\n"
   ]
  },
  {
   "cell_type": "code",
   "execution_count": 4,
   "metadata": {},
   "outputs": [],
   "source": [
    "def multiply(arg_1, arg_2):\n",
    "    '''This function takes two arguments (arg_1, arg2), multiplies them, and returns the result.  \n",
    "    '''\n",
    "    try:\n",
    "        return(arg_1 * arg_2)\n",
    "        \n",
    "    except TypeError:\n",
    "        print('Datatype error in multiply().')\n",
    "        return(-99)\n",
    "# end test_parms"
   ]
  },
  {
   "cell_type": "markdown",
   "metadata": {},
   "source": [
    "With the function rewritten, let's see what happens when we call the function, as we did earlier with a string and a float."
   ]
  },
  {
   "cell_type": "code",
   "execution_count": 5,
   "metadata": {},
   "outputs": [
    {
     "name": "stdout",
     "output_type": "stream",
     "text": [
      "Datatype error in multiply().\n"
     ]
    },
    {
     "data": {
      "text/plain": [
       "-99"
      ]
     },
     "execution_count": 5,
     "metadata": {},
     "output_type": "execute_result"
    }
   ],
   "source": [
    "multiply(2.5, 'Sheldon Roommate Agreement ')"
   ]
  },
  {
   "cell_type": "markdown",
   "metadata": {},
   "source": [
    "This looks a lot better.  And the best part is Python did not melt down.  The function displays our custom error message and returns a -99.  When handling errors, it's best practice to always indicate where the error occurred and have the function return a value indicating an error condition.  The function returns a -99 in this case.  If function multiply() was part of a library, you'd want to specify both the library and the function in the error message.  Also, it's important to clearly state what went wrong so corrective action can be taken. "
   ]
  },
  {
   "cell_type": "markdown",
   "metadata": {},
   "source": [
    "## Review\n",
    "\n",
    "In this myDataStory learning experience, we introduced you to the basics of writing functions, using Sheldon Cooper's relationship agreement as our starting point.  Here are the key points:\n",
    "\n",
    "- Best-practice is to first write a function specification (spec) that details what the function will do when it's called.\n",
    "\n",
    "- Rather than validate function arguments upfront, embed code in `try` blocks and then handle thrown errors in `except` blocks.  Let the Python interpreter do the heavy lifting for you!\n",
    "\n",
    "- Provide help documentation for your function immediately after the function's definition, using doc strings to do so.\n",
    "\n",
    "In our next learning experience, we'll continue our exploration of how to thoroughly test new functions, using some of Python's special libraries to do so."
   ]
  },
  {
   "cell_type": "markdown",
   "metadata": {},
   "source": [
    "## Contact and Feedback\n",
    "\n",
    "If you have any suggestions for improving this learning experience, please email them to Dan Maxwell: danielmaxwell@ufl.edu."
   ]
  }
 ],
 "metadata": {
  "kernelspec": {
   "display_name": "Python 3",
   "language": "python",
   "name": "python3"
  },
  "language_info": {
   "codemirror_mode": {
    "name": "ipython",
    "version": 3
   },
   "file_extension": ".py",
   "mimetype": "text/x-python",
   "name": "python",
   "nbconvert_exporter": "python",
   "pygments_lexer": "ipython3",
   "version": "3.6.5"
  }
 },
 "nbformat": 4,
 "nbformat_minor": 2
}
