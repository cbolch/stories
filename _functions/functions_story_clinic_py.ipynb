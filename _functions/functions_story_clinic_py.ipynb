{
 "cells": [
  {
   "cell_type": "code",
   "execution_count": 1,
   "metadata": {
    "collapsed": true
   },
   "outputs": [],
   "source": [
    "import pandas as pd\n",
    "import matplotlib.pyplot as plt"
   ]
  },
  {
   "cell_type": "markdown",
   "metadata": {},
   "source": [
    "## Sheldon Cooper's Relationship Agreement\n",
    "\n",
    "In the *Big Bang Theory* TV series, the show's resident genius - Sheldon Cooper - enjoys creating legally-binding agreements that specify the particulars of any relationship he is presently in.  His budding romance with Amy is regulated by a relationship agreement, as is his relationship with his roommate, Leonard Hofstadter. \n"
   ]
  },
  {
   "cell_type": "markdown",
   "metadata": {},
   "source": [
    "*insert photo here*"
   ]
  },
  {
   "cell_type": "markdown",
   "metadata": {},
   "source": [
    "## Python Functions\n",
    "\n",
    "The fundamental concept behind functions is the notion of a contract.  Just as Sheldon's relationship and roommate agreements ensure that the parties involved will act in regular and predictable ways, so too the interface to a function is like a contract.  If a call to a function passes the correct arguments in the correct order, a well written function responds in a predictable way, providing the promised output. \n",
    "\n",
    "Counterintuitively, the first step in creating a function is to define what it will do.  I say \"counterintuitively\" because most programmers simply dive right in and start writing code.  This strategy works well for small and rather simple programs.  However, you'll quickly run into trouble when the complexity begins to increase.  For that reason, seasoned software developers usually begin by writing a specification (spec) - a document that spells out the terms of the contract.  A well-written specification typically includes interface documentation as well as pseudocode, a clear statement in plain English of the steps to be taken to accomplish the function's task.\n",
    "\n",
    "Let's illustrate this process by writing a spec for a rather simple function called *multiply.* Here's the initial specification.  \n",
    "\n",
    "The multiply() function takes two arguments (arg_1, arg_2), multiplies them, and returns the result.\n",
    "\n",
    "Because this function is so simple, we won't bother with the pseudocode at this point.  For more complex functions, however,  pseudocode is strongly recommended as it helps you understand the flow and logic of your program before you start coding. With all that said, here's a first look at the code. \n"
   ]
  },
  {
   "cell_type": "code",
   "execution_count": 2,
   "metadata": {
    "collapsed": true
   },
   "outputs": [],
   "source": [
    "\n",
    "def multiply(arg_1, arg_2):\n",
    "    '''This function takes two arguments (arg_1, arg2), multiplies them, and returns the result.  \n",
    "    '''\n",
    "    return(arg_1 * arg_2)\n",
    "\n",
    "# end multiply() \n"
   ]
  },
  {
   "cell_type": "markdown",
   "metadata": {},
   "source": [
    "This is a straightforward function, if there ever was one.  Even so, a couple points need to be highlighted.  Consider, for example, the documentation (doc) string immediately following the function definition.  As you can see, this string is enclosed by three single quotes '''.  The information in a doc string displays whenever one runs help() on a given function.  Here's what you get when you run the command:"
   ]
  },
  {
   "cell_type": "code",
   "execution_count": 4,
   "metadata": {},
   "outputs": [
    {
     "name": "stdout",
     "output_type": "stream",
     "text": [
      "Help on function multiply in module __main__:\n",
      "\n",
      "multiply(arg_1, arg_2)\n",
      "    This function takes two arguments (arg_1, arg2), multiplies them, and returns the result.\n",
      "\n"
     ]
    }
   ],
   "source": [
    "help(multiply)"
   ]
  },
  {
   "cell_type": "markdown",
   "metadata": {},
   "source": [
    "In his wonderful book, *Python without Fear,* Brian Overland makes the following points about doc strings (p. 322).  You'll want to keep these in mind as you create doc strings for your functions.\n",
    "\n",
    "1. The doc string must be the first statement after the beginning (header) of the function definition.\n",
    "2. Normal indentation rules apply.  The doc string must be indented under the heading of the definition, just as any\n",
    "   statement.\n",
    "3. The indentation requirement applies only to the first physical line. However, the cleanest style is to continue the\n",
    "   indentation of the first line.\n",
    "4. You can use any kind of quotation marks.  However, the literal quote marks (''') enable you to write doc strings\n",
    "   that span any number of physical lines.\n",
    "   \n",
    "The last thing we need to point out is the comment at the end of the function definition.  The pound sign (#) indicates that anything following it is a comment.  In this case, we mark the end of the function with a comment.  When developing a module containing multiple functions, best practice encourages the placement of comments at the end of each function.  This helps you to clearly see where one function ends and another begins."
   ]
  },
  {
   "cell_type": "markdown",
   "metadata": {},
   "source": [
    "## The Broken Contract\n",
    "\n",
    "Once a function has been developed, it's always best to rigorously test it before moving it to production.  Most programmers dislike testing as it's always more fun to write code than to debug it.  Nevertheless, testing is an incredibly important part of the development process, especially if your aim is to write \"bullet-proof\" code.  So to do this, let's test our new multiply() function by calling it in a variety of ways."
   ]
  },
  {
   "cell_type": "code",
   "execution_count": 4,
   "metadata": {},
   "outputs": [
    {
     "data": {
      "text/plain": [
       "4"
      ]
     },
     "execution_count": 4,
     "metadata": {},
     "output_type": "execute_result"
    }
   ],
   "source": [
    "# Call multiply with two integers.\n",
    "multiply(2, 2)"
   ]
  },
  {
   "cell_type": "code",
   "execution_count": 5,
   "metadata": {},
   "outputs": [
    {
     "data": {
      "text/plain": [
       "10.56"
      ]
     },
     "execution_count": 5,
     "metadata": {},
     "output_type": "execute_result"
    }
   ],
   "source": [
    "# Call multiply with two floats.\n",
    "multiply(2.2, 4.8)"
   ]
  },
  {
   "cell_type": "code",
   "execution_count": 3,
   "metadata": {},
   "outputs": [
    {
     "data": {
      "text/plain": [
       "'Sheldon Roommate Agreement Sheldon Roommate Agreement '"
      ]
     },
     "execution_count": 3,
     "metadata": {},
     "output_type": "execute_result"
    }
   ],
   "source": [
    "# Call multiply with an integer and a string.\n",
    "multiply('Sheldon Roommate Agreement ', 2)"
   ]
  },
  {
   "cell_type": "markdown",
   "metadata": {},
   "source": [
    "The first two calls to multiply() return exactly what we expect.  If you pass numbers - either integers or floats - the function multiplies them and returns the correct result.  However, the third call is somewhat surprising.  If we pass a string and a number, the function multiplies the string by the number requested.  Most programming languages would not do this.  Instead, they will complain that the multiplication operator only works with numeric datatypes.  But not Python!  Python has a certain level of intelligence built into this operator.  Behind the scenes, the interpreter checks the datatypes of the two arguments and does a sensible thing, either multiplying numbers or duplicating strings.\n",
    "\n",
    "But what happens if we try to multiply our string two and a half times?\n"
   ]
  },
  {
   "cell_type": "code",
   "execution_count": 4,
   "metadata": {
    "scrolled": true
   },
   "outputs": [
    {
     "ename": "TypeError",
     "evalue": "can't multiply sequence by non-int of type 'float'",
     "output_type": "error",
     "traceback": [
      "\u001b[1;31m---------------------------------------------------------------------------\u001b[0m",
      "\u001b[1;31mTypeError\u001b[0m                                 Traceback (most recent call last)",
      "\u001b[1;32m<ipython-input-4-cdf99f7eb7cb>\u001b[0m in \u001b[0;36m<module>\u001b[1;34m()\u001b[0m\n\u001b[1;32m----> 1\u001b[1;33m \u001b[0mmultiply\u001b[0m\u001b[1;33m(\u001b[0m\u001b[1;36m2.5\u001b[0m\u001b[1;33m,\u001b[0m \u001b[1;34m'Sheldon Roommate Agreement '\u001b[0m\u001b[1;33m)\u001b[0m\u001b[1;33m\u001b[0m\u001b[0m\n\u001b[0m",
      "\u001b[1;32m<ipython-input-2-9a17ec4e3052>\u001b[0m in \u001b[0;36mmultiply\u001b[1;34m(arg_1, arg_2)\u001b[0m\n\u001b[0;32m      3\u001b[0m     '''This function takes two arguments (arg_1, arg2), multiplies them, and returns the result.  \n\u001b[0;32m      4\u001b[0m     '''\n\u001b[1;32m----> 5\u001b[1;33m     \u001b[1;32mreturn\u001b[0m\u001b[1;33m(\u001b[0m\u001b[0marg_1\u001b[0m \u001b[1;33m*\u001b[0m \u001b[0marg_2\u001b[0m\u001b[1;33m)\u001b[0m\u001b[1;33m\u001b[0m\u001b[0m\n\u001b[0m\u001b[0;32m      6\u001b[0m \u001b[1;33m\u001b[0m\u001b[0m\n\u001b[0;32m      7\u001b[0m \u001b[1;31m# end multiply()\u001b[0m\u001b[1;33m\u001b[0m\u001b[1;33m\u001b[0m\u001b[0m\n",
      "\u001b[1;31mTypeError\u001b[0m: can't multiply sequence by non-int of type 'float'"
     ]
    }
   ],
   "source": [
    "multiply(2.5, 'Sheldon Roommate Agreement ')"
   ]
  },
  {
   "cell_type": "markdown",
   "metadata": {},
   "source": [
    "Apparently, there are limits to Python's intelligence!  When our function is called this way, the interpreter generates an ugly *TypeError* and highlights the offending line with an arrow.  The error message essentially says that we cannot multiply a string by a float, just whole numbers (i.e. integers).\n",
    "\n",
    "In the absence of any error-handling code, this is what happens.  The interpreter blows up and brings the currently executing code to a screeching halt.  The problem is that our function currently lacks any way of gently handling problems like this.  In other words, we need to practice what's called, \"defensive programming.\"  When creating a new function, defensive programming practices are critically important, especially in large systems where a function call might be buried three or four levels deep.\n",
    "\n",
    "Because Python is a *dynamically typed* language, multiply's two arguments (arg_1 and arg_2) can be any datatype you wish.  We can pass integers, floats, strings, even lists and dictionaries.  Python only blows up when it encounters an operation inside the function that doesn't support the datatypes.  For those who've programmed in other languages such as C, the answer appears to be simple.  Just check the datatypes upfront, at the start of the function.  But this is not the Python way.  Instead, Python encourages what's known as *duck typing.*  The idea is simple.  If it looks like a duck, waddles like a duck, and quacks like a duck, then why validate that it's a duck?  Or stated in programming terms, don't bother to check datatypes.  Let Python do that for you.  Unfortunately, this still leaves us with the problem of handling errors gracefully.  \n",
    "\n",
    "Python's answer is to enclose code in *try* block(s).  What makes *try* blocks so appealing is that any errors raised will be handled gracefully in the *except* block, giving you a chance to avoid messy code meltdowns.\n",
    "\n",
    "Here's what our function looks like after being rewritten this way:\n"
   ]
  },
  {
   "cell_type": "code",
   "execution_count": 13,
   "metadata": {},
   "outputs": [],
   "source": [
    "def multiply(arg_1, arg_2):\n",
    "    '''This function takes two arguments (arg_1, arg2), multiplies them, and returns the result.  \n",
    "    '''\n",
    "    try:\n",
    "        return(arg_1 * arg_2)\n",
    "        \n",
    "    except TypeError:\n",
    "        print('Datatype error in multiply().')\n",
    "        return(-99)\n",
    "# end test_parms"
   ]
  },
  {
   "cell_type": "markdown",
   "metadata": {},
   "source": [
    "With the function rewritten, let's see what happens when we call the function, as we did earlier with a string and a float."
   ]
  },
  {
   "cell_type": "code",
   "execution_count": 14,
   "metadata": {},
   "outputs": [
    {
     "name": "stdout",
     "output_type": "stream",
     "text": [
      "Datatype error in multiply().\n"
     ]
    },
    {
     "data": {
      "text/plain": [
       "-99"
      ]
     },
     "execution_count": 14,
     "metadata": {},
     "output_type": "execute_result"
    }
   ],
   "source": [
    "multiply(2.5, 'Sheldon Roommate Agreement ')"
   ]
  },
  {
   "cell_type": "markdown",
   "metadata": {},
   "source": [
    "This looks a lot better.  And the best part is Python did not melt down.  The function displays our custom error message and returns a -99.  When handling errors, it's best practice to always indicate where the error occurred.  If function multiply() was part of a library, you'd want to specify both the library and function in the error message.  Also, it's important to clearly state what went wrong so corrective action can be taken."
   ]
  },
  {
   "cell_type": "markdown",
   "metadata": {},
   "source": [
    "## Continuous Integration\n",
    "\n",
    "We're going to make another function to insert into our function (yes, a function within a function!) that will check the data types for us, so we don't have to. This way, we won't face any complications by putting in wrong data types. It may be easy to spot wrong datatypes now as creators of the function, but this comes in handy when handling other people's functions, and vice versa. \n",
    "\n",
    "We will be using a handy tool called assertions. They can easily check datatypes and will raise an error (stop a function) if a value asserts something as false.\n"
   ]
  },
  {
   "cell_type": "code",
   "execution_count": 103,
   "metadata": {},
   "outputs": [
    {
     "ename": "AssertionError",
     "evalue": "'hello world' is not a number!",
     "output_type": "error",
     "traceback": [
      "\u001b[0;31m---------------------------------------------------------------------------\u001b[0m",
      "\u001b[0;31mAssertionError\u001b[0m                            Traceback (most recent call last)",
      "\u001b[0;32m<ipython-input-103-ebebe9a86d08>\u001b[0m in \u001b[0;36m<module>\u001b[0;34m()\u001b[0m\n\u001b[1;32m      7\u001b[0m \u001b[0mhello\u001b[0m \u001b[0;34m=\u001b[0m \u001b[0;34m'hello world'\u001b[0m\u001b[0;34m\u001b[0m\u001b[0m\n\u001b[1;32m      8\u001b[0m \u001b[0;34m\u001b[0m\u001b[0m\n\u001b[0;32m----> 9\u001b[0;31m \u001b[0;32massert\u001b[0m \u001b[0misinstance\u001b[0m\u001b[0;34m(\u001b[0m\u001b[0mhello\u001b[0m\u001b[0;34m,\u001b[0m \u001b[0mint\u001b[0m\u001b[0;34m)\u001b[0m\u001b[0;34m,\u001b[0m \u001b[0;34m'%r is not a number!'\u001b[0m \u001b[0;34m%\u001b[0m \u001b[0mhello\u001b[0m\u001b[0;34m\u001b[0m\u001b[0m\n\u001b[0m",
      "\u001b[0;31mAssertionError\u001b[0m: 'hello world' is not a number!"
     ]
    }
   ],
   "source": [
    "# Assertions \n",
    "\n",
    "assert isinstance(2, int)\n",
    "\n",
    "assert isinstance('hello world', str)\n",
    "\n",
    "hello = 'hello world'\n",
    "\n",
    "assert isinstance(hello, int), '%r is not a number!' % hello"
   ]
  },
  {
   "cell_type": "code",
   "execution_count": 104,
   "metadata": {
    "collapsed": true
   },
   "outputs": [],
   "source": [
    "def list_test(lis):\n",
    "    assert isinstance(lis, list), '%r should be a list' % lis\n",
    "    for i in range(len(lis)):\n",
    "        assert isinstance(lis[i], str), '%r should contain strings' % lis"
   ]
  },
  {
   "cell_type": "markdown",
   "metadata": {},
   "source": [
    "Now that we have a test function, let's implement it into our function. \n",
    "\n",
    "In practice, we should be thinking about our test function *before* we make our function. This is known as defensive programming. We want to really make sure our function is free of bugs by identifying them before our function is run. "
   ]
  },
  {
   "cell_type": "code",
   "execution_count": 105,
   "metadata": {
    "collapsed": true
   },
   "outputs": [],
   "source": [
    "def plot_life_expect(countries, line_colors):\n",
    "    '''plot_life_expect: This function creates a life expectancy line plot for a vector of countries.\n",
    "       First, it creates a figure to plot our graph on, including axis labels and a title. \n",
    "       Then, it loops through the countries, extracting the value from our df and plotting them with \n",
    "       the respective color. The ith country corresponds to the ith color in the list. \n",
    "       \n",
    "       Parameters:\n",
    "       countries: vector of strings indicating the countries to obtain from gapminder.csv\n",
    "       line_colors: vector of line colors indicating the colors of our lines\n",
    "    '''\n",
    "    for _ in locals().values():\n",
    "        list_test(_)\n",
    "        \n",
    "    ax = plt.axes()\n",
    "    ax.set(xlabel = 'Year', \n",
    "       ylabel = 'Years', \n",
    "         xlim = (1950, 2010), \n",
    "        title = 'Life Expectancy')\n",
    "    \n",
    "    for i in range(len(countries)):\n",
    "        df_gap = df.loc[countries[i]]\n",
    "        plt.plot(df_gap[['year']], df_gap[['lifeExp']], color = line_colors[i], label=countries[i])\n",
    "        \n",
    "    ax.legend()\n",
    "    plt.show()"
   ]
  },
  {
   "cell_type": "code",
   "execution_count": 93,
   "metadata": {},
   "outputs": [
    {
     "ename": "AssertionError",
     "evalue": "{'color': 'blue'} should be a list",
     "output_type": "error",
     "traceback": [
      "\u001b[0;31m---------------------------------------------------------------------------\u001b[0m",
      "\u001b[0;31mAssertionError\u001b[0m                            Traceback (most recent call last)",
      "\u001b[0;32m<ipython-input-93-faafcb571e52>\u001b[0m in \u001b[0;36m<module>\u001b[0;34m()\u001b[0m\n\u001b[1;32m      2\u001b[0m \u001b[0mno_list\u001b[0m \u001b[0;34m=\u001b[0m \u001b[0;34m{\u001b[0m\u001b[0;34m'color'\u001b[0m\u001b[0;34m:\u001b[0m \u001b[0;34m'blue'\u001b[0m\u001b[0;34m}\u001b[0m\u001b[0;34m\u001b[0m\u001b[0m\n\u001b[1;32m      3\u001b[0m \u001b[0;34m\u001b[0m\u001b[0m\n\u001b[0;32m----> 4\u001b[0;31m \u001b[0mplot_life_expect\u001b[0m\u001b[0;34m(\u001b[0m\u001b[0mcountries\u001b[0m\u001b[0;34m,\u001b[0m \u001b[0mno_list\u001b[0m\u001b[0;34m)\u001b[0m\u001b[0;34m\u001b[0m\u001b[0m\n\u001b[0m",
      "\u001b[0;32m<ipython-input-90-016e32ea71ae>\u001b[0m in \u001b[0;36mplot_life_expect\u001b[0;34m(countries, line_colors)\u001b[0m\n\u001b[1;32m      5\u001b[0m     '''\n\u001b[1;32m      6\u001b[0m     \u001b[0;32mfor\u001b[0m \u001b[0m_\u001b[0m \u001b[0;32min\u001b[0m \u001b[0mlocals\u001b[0m\u001b[0;34m(\u001b[0m\u001b[0;34m)\u001b[0m\u001b[0;34m.\u001b[0m\u001b[0mvalues\u001b[0m\u001b[0;34m(\u001b[0m\u001b[0;34m)\u001b[0m\u001b[0;34m:\u001b[0m\u001b[0;34m\u001b[0m\u001b[0m\n\u001b[0;32m----> 7\u001b[0;31m         \u001b[0mlist_test\u001b[0m\u001b[0;34m(\u001b[0m\u001b[0m_\u001b[0m\u001b[0;34m)\u001b[0m\u001b[0;34m\u001b[0m\u001b[0m\n\u001b[0m\u001b[1;32m      8\u001b[0m \u001b[0;34m\u001b[0m\u001b[0m\n\u001b[1;32m      9\u001b[0m     \u001b[0max\u001b[0m \u001b[0;34m=\u001b[0m \u001b[0mplt\u001b[0m\u001b[0;34m.\u001b[0m\u001b[0maxes\u001b[0m\u001b[0;34m(\u001b[0m\u001b[0;34m)\u001b[0m\u001b[0;34m\u001b[0m\u001b[0m\n",
      "\u001b[0;32m<ipython-input-87-1b32381a2e7f>\u001b[0m in \u001b[0;36mlist_test\u001b[0;34m(lis)\u001b[0m\n\u001b[1;32m      1\u001b[0m \u001b[0;32mdef\u001b[0m \u001b[0mlist_test\u001b[0m\u001b[0;34m(\u001b[0m\u001b[0mlis\u001b[0m\u001b[0;34m)\u001b[0m\u001b[0;34m:\u001b[0m\u001b[0;34m\u001b[0m\u001b[0m\n\u001b[0;32m----> 2\u001b[0;31m     \u001b[0;32massert\u001b[0m \u001b[0misinstance\u001b[0m\u001b[0;34m(\u001b[0m\u001b[0mlis\u001b[0m\u001b[0;34m,\u001b[0m \u001b[0mlist\u001b[0m\u001b[0;34m)\u001b[0m\u001b[0;34m,\u001b[0m \u001b[0;34m'%r should be a list'\u001b[0m \u001b[0;34m%\u001b[0m \u001b[0mlis\u001b[0m\u001b[0;34m\u001b[0m\u001b[0m\n\u001b[0m\u001b[1;32m      3\u001b[0m     \u001b[0;32mfor\u001b[0m \u001b[0mi\u001b[0m \u001b[0;32min\u001b[0m \u001b[0mrange\u001b[0m\u001b[0;34m(\u001b[0m\u001b[0mlen\u001b[0m\u001b[0;34m(\u001b[0m\u001b[0mlis\u001b[0m\u001b[0;34m)\u001b[0m\u001b[0;34m)\u001b[0m\u001b[0;34m:\u001b[0m\u001b[0;34m\u001b[0m\u001b[0m\n\u001b[1;32m      4\u001b[0m         \u001b[0;32massert\u001b[0m \u001b[0misinstance\u001b[0m\u001b[0;34m(\u001b[0m\u001b[0mlis\u001b[0m\u001b[0;34m[\u001b[0m\u001b[0mi\u001b[0m\u001b[0;34m]\u001b[0m\u001b[0;34m,\u001b[0m \u001b[0mstr\u001b[0m\u001b[0;34m)\u001b[0m\u001b[0;34m,\u001b[0m \u001b[0;34m'%r should contain strings'\u001b[0m \u001b[0;34m%\u001b[0m \u001b[0mlis\u001b[0m\u001b[0;34m\u001b[0m\u001b[0m\n",
      "\u001b[0;31mAssertionError\u001b[0m: {'color': 'blue'} should be a list"
     ]
    }
   ],
   "source": [
    "# Test our test functions! \n",
    "\n",
    "no_strings = ['China', 2, 'England']\n",
    "no_list = {'color': 'blue'}\n",
    "\n",
    "plot_life_expect(countries, no_list)"
   ]
  },
  {
   "cell_type": "code",
   "execution_count": 95,
   "metadata": {},
   "outputs": [
    {
     "ename": "AssertionError",
     "evalue": "['China', 2, 'England'] should contain strings",
     "output_type": "error",
     "traceback": [
      "\u001b[0;31m---------------------------------------------------------------------------\u001b[0m",
      "\u001b[0;31mAssertionError\u001b[0m                            Traceback (most recent call last)",
      "\u001b[0;32m<ipython-input-95-587405d3d9cd>\u001b[0m in \u001b[0;36m<module>\u001b[0;34m()\u001b[0m\n\u001b[0;32m----> 1\u001b[0;31m \u001b[0mplot_life_expect\u001b[0m\u001b[0;34m(\u001b[0m\u001b[0mno_strings\u001b[0m\u001b[0;34m,\u001b[0m \u001b[0mline_colors\u001b[0m\u001b[0;34m)\u001b[0m\u001b[0;34m\u001b[0m\u001b[0m\n\u001b[0m",
      "\u001b[0;32m<ipython-input-90-016e32ea71ae>\u001b[0m in \u001b[0;36mplot_life_expect\u001b[0;34m(countries, line_colors)\u001b[0m\n\u001b[1;32m      5\u001b[0m     '''\n\u001b[1;32m      6\u001b[0m     \u001b[0;32mfor\u001b[0m \u001b[0m_\u001b[0m \u001b[0;32min\u001b[0m \u001b[0mlocals\u001b[0m\u001b[0;34m(\u001b[0m\u001b[0;34m)\u001b[0m\u001b[0;34m.\u001b[0m\u001b[0mvalues\u001b[0m\u001b[0;34m(\u001b[0m\u001b[0;34m)\u001b[0m\u001b[0;34m:\u001b[0m\u001b[0;34m\u001b[0m\u001b[0m\n\u001b[0;32m----> 7\u001b[0;31m         \u001b[0mlist_test\u001b[0m\u001b[0;34m(\u001b[0m\u001b[0m_\u001b[0m\u001b[0;34m)\u001b[0m\u001b[0;34m\u001b[0m\u001b[0m\n\u001b[0m\u001b[1;32m      8\u001b[0m \u001b[0;34m\u001b[0m\u001b[0m\n\u001b[1;32m      9\u001b[0m     \u001b[0max\u001b[0m \u001b[0;34m=\u001b[0m \u001b[0mplt\u001b[0m\u001b[0;34m.\u001b[0m\u001b[0maxes\u001b[0m\u001b[0;34m(\u001b[0m\u001b[0;34m)\u001b[0m\u001b[0;34m\u001b[0m\u001b[0m\n",
      "\u001b[0;32m<ipython-input-87-1b32381a2e7f>\u001b[0m in \u001b[0;36mlist_test\u001b[0;34m(lis)\u001b[0m\n\u001b[1;32m      2\u001b[0m     \u001b[0;32massert\u001b[0m \u001b[0misinstance\u001b[0m\u001b[0;34m(\u001b[0m\u001b[0mlis\u001b[0m\u001b[0;34m,\u001b[0m \u001b[0mlist\u001b[0m\u001b[0;34m)\u001b[0m\u001b[0;34m,\u001b[0m \u001b[0;34m'%r should be a list'\u001b[0m \u001b[0;34m%\u001b[0m \u001b[0mlis\u001b[0m\u001b[0;34m\u001b[0m\u001b[0m\n\u001b[1;32m      3\u001b[0m     \u001b[0;32mfor\u001b[0m \u001b[0mi\u001b[0m \u001b[0;32min\u001b[0m \u001b[0mrange\u001b[0m\u001b[0;34m(\u001b[0m\u001b[0mlen\u001b[0m\u001b[0;34m(\u001b[0m\u001b[0mlis\u001b[0m\u001b[0;34m)\u001b[0m\u001b[0;34m)\u001b[0m\u001b[0;34m:\u001b[0m\u001b[0;34m\u001b[0m\u001b[0m\n\u001b[0;32m----> 4\u001b[0;31m         \u001b[0;32massert\u001b[0m \u001b[0misinstance\u001b[0m\u001b[0;34m(\u001b[0m\u001b[0mlis\u001b[0m\u001b[0;34m[\u001b[0m\u001b[0mi\u001b[0m\u001b[0;34m]\u001b[0m\u001b[0;34m,\u001b[0m \u001b[0mstr\u001b[0m\u001b[0;34m)\u001b[0m\u001b[0;34m,\u001b[0m \u001b[0;34m'%r should contain strings'\u001b[0m \u001b[0;34m%\u001b[0m \u001b[0mlis\u001b[0m\u001b[0;34m\u001b[0m\u001b[0m\n\u001b[0m",
      "\u001b[0;31mAssertionError\u001b[0m: ['China', 2, 'England'] should contain strings"
     ]
    }
   ],
   "source": [
    "plot_life_expect(no_strings, line_colors)"
   ]
  }
 ],
 "metadata": {
  "kernelspec": {
   "display_name": "Python 3",
   "language": "python",
   "name": "python3"
  },
  "language_info": {
   "codemirror_mode": {
    "name": "ipython",
    "version": 3
   },
   "file_extension": ".py",
   "mimetype": "text/x-python",
   "name": "python",
   "nbconvert_exporter": "python",
   "pygments_lexer": "ipython3",
   "version": "3.6.5"
  }
 },
 "nbformat": 4,
 "nbformat_minor": 2
}
