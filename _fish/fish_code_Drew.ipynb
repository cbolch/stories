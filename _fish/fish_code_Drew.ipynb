{
 "cells": [
  {
   "cell_type": "markdown",
   "metadata": {},
   "source": [
    "## Atlantic Cod in New England Data Challenge"
   ]
  },
  {
   "cell_type": "markdown",
   "metadata": {},
   "source": [
    "##### Drew Cistola"
   ]
  },
  {
   "cell_type": "markdown",
   "metadata": {},
   "source": [
    "#### Import Cod Dataset, Pandas, and Matplotlib"
   ]
  },
  {
   "cell_type": "code",
   "execution_count": 25,
   "metadata": {},
   "outputs": [
    {
     "name": "stdout",
     "output_type": "stream",
     "text": [
      "<class 'pandas.core.frame.DataFrame'>\n",
      "RangeIndex: 75 entries, 0 to 74\n",
      "Data columns (total 5 columns):\n",
      "year       75 non-null int64\n",
      "state      75 non-null object\n",
      "species    75 non-null object\n",
      "pounds     75 non-null int64\n",
      "dollars    75 non-null int64\n",
      "dtypes: int64(3), object(2)\n",
      "memory usage: 3.0+ KB\n"
     ]
    }
   ],
   "source": [
    "import pandas as pnd\n",
    "import matplotlib.pyplot as plt\n",
    "cod = pnd.read_csv(\"C:/Users/drewc/Documents/cod_landings.csv\")\n",
    "cod.info()"
   ]
  },
  {
   "cell_type": "markdown",
   "metadata": {},
   "source": [
    "#### Group Dataset by Year and Plot Dollars and Pounds"
   ]
  },
  {
   "cell_type": "code",
   "execution_count": 8,
   "metadata": {},
   "outputs": [
    {
     "name": "stdout",
     "output_type": "stream",
     "text": [
      "<class 'pandas.core.frame.DataFrame'>\n",
      "Int64Index: 9 entries, 1988 to 2017\n",
      "Data columns (total 2 columns):\n",
      "pounds     9 non-null int64\n",
      "dollars    9 non-null int64\n",
      "dtypes: int64(2)\n",
      "memory usage: 216.0 bytes\n"
     ]
    },
    {
     "data": {
      "text/plain": [
       "<matplotlib.axes._subplots.AxesSubplot at 0x21d8582a588>"
      ]
     },
     "execution_count": 8,
     "metadata": {},
     "output_type": "execute_result"
    },
    {
     "data": {
      "image/png": "[encoded data removed]",
      "text/plain": [
       "<Figure size 432x288 with 1 Axes>"
      ]
     },
     "metadata": {
      "needs_background": "light"
     },
     "output_type": "display_data"
    }
   ],
   "source": [
    "yr = cod.groupby(['year']).sum()\n",
    "yr.plot()"
   ]
  },
  {
   "cell_type": "markdown",
   "metadata": {},
   "source": [
    "#### Group Dataset by Year and State"
   ]
  },
  {
   "cell_type": "code",
   "execution_count": 27,
   "metadata": {},
   "outputs": [
    {
     "name": "stdout",
     "output_type": "stream",
     "text": [
      "<class 'pandas.core.frame.DataFrame'>\n",
      "MultiIndex: 56 entries, (1988, Connecticut) to (2017, Rhode Island)\n",
      "Data columns (total 2 columns):\n",
      "pounds     56 non-null int64\n",
      "dollars    56 non-null int64\n",
      "dtypes: int64(2)\n",
      "memory usage: 1.2+ KB\n"
     ]
    }
   ],
   "source": [
    "yrst = cod.groupby(['year', 'state']).sum()\n",
    "yrst.info()"
   ]
  },
  {
   "cell_type": "markdown",
   "metadata": {},
   "source": [
    "#### Reset Index so that new Groups are Column Names"
   ]
  },
  {
   "cell_type": "code",
   "execution_count": 12,
   "metadata": {},
   "outputs": [
    {
     "name": "stdout",
     "output_type": "stream",
     "text": [
      "<class 'pandas.core.frame.DataFrame'>\n",
      "RangeIndex: 56 entries, 0 to 55\n",
      "Data columns (total 4 columns):\n",
      "year       56 non-null int64\n",
      "state      56 non-null object\n",
      "pounds     56 non-null int64\n",
      "dollars    56 non-null int64\n",
      "dtypes: int64(3), object(1)\n",
      "memory usage: 1.8+ KB\n"
     ]
    }
   ],
   "source": [
    "yrstl = yrst.reset_index(level=['year', 'state'])\n",
    "yrstl.info()"
   ]
  },
  {
   "cell_type": "markdown",
   "metadata": {},
   "source": [
    "#### Convert Dataset from Long to Wide for Dollars"
   ]
  },
  {
   "cell_type": "code",
   "execution_count": 22,
   "metadata": {},
   "outputs": [
    {
     "data": {
      "text/html": [
       "<div>\n",
       "<style scoped>\n",
       "    .dataframe tbody tr th:only-of-type {\n",
       "        vertical-align: middle;\n",
       "    }\n",
       "\n",
       "    .dataframe tbody tr th {\n",
       "        vertical-align: top;\n",
       "    }\n",
       "\n",
       "    .dataframe thead th {\n",
       "        text-align: right;\n",
       "    }\n",
       "</style>\n",
       "<table border=\"1\" class=\"dataframe\">\n",
       "  <thead>\n",
       "    <tr style=\"text-align: right;\">\n",
       "      <th>year</th>\n",
       "      <th>1988</th>\n",
       "      <th>2010</th>\n",
       "      <th>2011</th>\n",
       "      <th>2012</th>\n",
       "      <th>2013</th>\n",
       "      <th>2014</th>\n",
       "      <th>2015</th>\n",
       "      <th>2016</th>\n",
       "      <th>2017</th>\n",
       "    </tr>\n",
       "    <tr>\n",
       "      <th>state</th>\n",
       "      <th></th>\n",
       "      <th></th>\n",
       "      <th></th>\n",
       "      <th></th>\n",
       "      <th></th>\n",
       "      <th></th>\n",
       "      <th></th>\n",
       "      <th></th>\n",
       "      <th></th>\n",
       "    </tr>\n",
       "  </thead>\n",
       "  <tbody>\n",
       "    <tr>\n",
       "      <th>Connecticut</th>\n",
       "      <td>168630.0</td>\n",
       "      <td>9459.0</td>\n",
       "      <td>4.0</td>\n",
       "      <td>14223.0</td>\n",
       "      <td>109.0</td>\n",
       "      <td>1131.0</td>\n",
       "      <td>3819.0</td>\n",
       "      <td>48890.0</td>\n",
       "      <td>2299.0</td>\n",
       "    </tr>\n",
       "    <tr>\n",
       "      <th>Maine</th>\n",
       "      <td>4033556.0</td>\n",
       "      <td>1388716.0</td>\n",
       "      <td>1617500.0</td>\n",
       "      <td>1234332.0</td>\n",
       "      <td>737685.0</td>\n",
       "      <td>884371.0</td>\n",
       "      <td>496878.0</td>\n",
       "      <td>341501.0</td>\n",
       "      <td>218948.0</td>\n",
       "    </tr>\n",
       "    <tr>\n",
       "      <th>Maryland</th>\n",
       "      <td>NaN</td>\n",
       "      <td>259.0</td>\n",
       "      <td>173.0</td>\n",
       "      <td>174.0</td>\n",
       "      <td>NaN</td>\n",
       "      <td>NaN</td>\n",
       "      <td>NaN</td>\n",
       "      <td>NaN</td>\n",
       "      <td>NaN</td>\n",
       "    </tr>\n",
       "    <tr>\n",
       "      <th>Massachusetts</th>\n",
       "      <td>35032227.0</td>\n",
       "      <td>23998994.0</td>\n",
       "      <td>27582585.0</td>\n",
       "      <td>18550352.0</td>\n",
       "      <td>8376560.0</td>\n",
       "      <td>7493636.0</td>\n",
       "      <td>5528195.0</td>\n",
       "      <td>5164264.0</td>\n",
       "      <td>3774367.0</td>\n",
       "    </tr>\n",
       "    <tr>\n",
       "      <th>New Hampshire</th>\n",
       "      <td>1630845.0</td>\n",
       "      <td>2186438.0</td>\n",
       "      <td>2499574.0</td>\n",
       "      <td>1750161.0</td>\n",
       "      <td>546314.0</td>\n",
       "      <td>571297.0</td>\n",
       "      <td>93296.0</td>\n",
       "      <td>108694.0</td>\n",
       "      <td>148949.0</td>\n",
       "    </tr>\n",
       "    <tr>\n",
       "      <th>New Jersey</th>\n",
       "      <td>8812.0</td>\n",
       "      <td>762.0</td>\n",
       "      <td>4356.0</td>\n",
       "      <td>1803.0</td>\n",
       "      <td>2136.0</td>\n",
       "      <td>331.0</td>\n",
       "      <td>133.0</td>\n",
       "      <td>2638.0</td>\n",
       "      <td>NaN</td>\n",
       "    </tr>\n",
       "    <tr>\n",
       "      <th>Rhode Island</th>\n",
       "      <td>1577813.0</td>\n",
       "      <td>410127.0</td>\n",
       "      <td>758667.0</td>\n",
       "      <td>582177.0</td>\n",
       "      <td>722988.0</td>\n",
       "      <td>382004.0</td>\n",
       "      <td>281061.0</td>\n",
       "      <td>393896.0</td>\n",
       "      <td>278573.0</td>\n",
       "    </tr>\n",
       "  </tbody>\n",
       "</table>\n",
       "</div>"
      ],
      "text/plain": [
       "year                 1988        2010        2011        2012       2013  \\\n",
       "state                                                                      \n",
       "Connecticut      168630.0      9459.0         4.0     14223.0      109.0   \n",
       "Maine           4033556.0   1388716.0   1617500.0   1234332.0   737685.0   \n",
       "Maryland              NaN       259.0       173.0       174.0        NaN   \n",
       "Massachusetts  35032227.0  23998994.0  27582585.0  18550352.0  8376560.0   \n",
       "New Hampshire   1630845.0   2186438.0   2499574.0   1750161.0   546314.0   \n",
       "New Jersey         8812.0       762.0      4356.0      1803.0     2136.0   \n",
       "Rhode Island    1577813.0    410127.0    758667.0    582177.0   722988.0   \n",
       "\n",
       "year                2014       2015       2016       2017  \n",
       "state                                                      \n",
       "Connecticut       1131.0     3819.0    48890.0     2299.0  \n",
       "Maine           884371.0   496878.0   341501.0   218948.0  \n",
       "Maryland             NaN        NaN        NaN        NaN  \n",
       "Massachusetts  7493636.0  5528195.0  5164264.0  3774367.0  \n",
       "New Hampshire   571297.0    93296.0   108694.0   148949.0  \n",
       "New Jersey         331.0      133.0     2638.0        NaN  \n",
       "Rhode Island    382004.0   281061.0   393896.0   278573.0  "
      ]
     },
     "execution_count": 22,
     "metadata": {},
     "output_type": "execute_result"
    }
   ],
   "source": [
    "yrstd = yrstl.pivot(index='state', columns='year', values='dollars')\n",
    "yrstd.head(n=7)"
   ]
  },
  {
   "cell_type": "markdown",
   "metadata": {},
   "source": [
    "#### Make Variables for each state location in Data Frame"
   ]
  },
  {
   "cell_type": "code",
   "execution_count": 15,
   "metadata": {},
   "outputs": [],
   "source": [
    "ME = yrstd.loc['Maine']\n",
    "MA = yrstd.loc['Massachusetts']\n",
    "CT = yrstd.loc['Connecticut']\n",
    "RI = yrstd.loc['Rhode Island']\n",
    "NH = yrstd.loc['New Hampshire']\n",
    "NJ = yrstd.loc['New Jersey']\n",
    "MD = yrstd.loc['Maryland']\n",
    "yrsd = yrstd.columns"
   ]
  },
  {
   "cell_type": "markdown",
   "metadata": {},
   "source": [
    "#### Make Plot with Each State, Labels, and Legends"
   ]
  },
  {
   "cell_type": "code",
   "execution_count": 28,
   "metadata": {},
   "outputs": [
    {
     "data": {
      "text/plain": [
       "<matplotlib.legend.Legend at 0x21d85f51e10>"
      ]
     },
     "execution_count": 28,
     "metadata": {},
     "output_type": "execute_result"
    },
    {
     "data": {
      "image/png": "[encoded data removed]",
      "text/plain": [
       "<Figure size 432x288 with 1 Axes>"
      ]
     },
     "metadata": {
      "needs_background": "light"
     },
     "output_type": "display_data"
    }
   ],
   "source": [
    "plt.plot(yrsd, MA, 'g--')\n",
    "plt.plot(yrsd, ME, 'b--')\n",
    "plt.plot(yrsd, CT, 'r--')\n",
    "plt.plot(yrsd, RI, 'c--')\n",
    "plt.plot(yrsd, NH, 'm--')\n",
    "plt.plot(yrsd, NJ, 'y--')\n",
    "plt.plot(yrsd, MD, 'k--')\n",
    "plt.ylabel('Dollars of Atlantic Cod (in millions)')\n",
    "plt.xlabel('Fishing Year')\n",
    "plt.legend()"
   ]
  },
  {
   "cell_type": "markdown",
   "metadata": {},
   "source": [
    "#### Repeat Process for Pounds"
   ]
  },
  {
   "cell_type": "code",
   "execution_count": 23,
   "metadata": {},
   "outputs": [
    {
     "data": {
      "text/html": [
       "<div>\n",
       "<style scoped>\n",
       "    .dataframe tbody tr th:only-of-type {\n",
       "        vertical-align: middle;\n",
       "    }\n",
       "\n",
       "    .dataframe tbody tr th {\n",
       "        vertical-align: top;\n",
       "    }\n",
       "\n",
       "    .dataframe thead th {\n",
       "        text-align: right;\n",
       "    }\n",
       "</style>\n",
       "<table border=\"1\" class=\"dataframe\">\n",
       "  <thead>\n",
       "    <tr style=\"text-align: right;\">\n",
       "      <th>year</th>\n",
       "      <th>1988</th>\n",
       "      <th>2010</th>\n",
       "      <th>2011</th>\n",
       "      <th>2012</th>\n",
       "      <th>2013</th>\n",
       "      <th>2014</th>\n",
       "      <th>2015</th>\n",
       "      <th>2016</th>\n",
       "      <th>2017</th>\n",
       "    </tr>\n",
       "    <tr>\n",
       "      <th>state</th>\n",
       "      <th></th>\n",
       "      <th></th>\n",
       "      <th></th>\n",
       "      <th></th>\n",
       "      <th></th>\n",
       "      <th></th>\n",
       "      <th></th>\n",
       "      <th></th>\n",
       "      <th></th>\n",
       "    </tr>\n",
       "  </thead>\n",
       "  <tbody>\n",
       "    <tr>\n",
       "      <th>Connecticut</th>\n",
       "      <td>255500.0</td>\n",
       "      <td>5673.0</td>\n",
       "      <td>2.0</td>\n",
       "      <td>7256.0</td>\n",
       "      <td>39.0</td>\n",
       "      <td>523.0</td>\n",
       "      <td>1968.0</td>\n",
       "      <td>25660.0</td>\n",
       "      <td>937.0</td>\n",
       "    </tr>\n",
       "    <tr>\n",
       "      <th>Maine</th>\n",
       "      <td>8104100.0</td>\n",
       "      <td>748131.0</td>\n",
       "      <td>814077.0</td>\n",
       "      <td>492714.0</td>\n",
       "      <td>286298.0</td>\n",
       "      <td>404122.0</td>\n",
       "      <td>254594.0</td>\n",
       "      <td>166081.0</td>\n",
       "      <td>80572.0</td>\n",
       "    </tr>\n",
       "    <tr>\n",
       "      <th>Maryland</th>\n",
       "      <td>NaN</td>\n",
       "      <td>136.0</td>\n",
       "      <td>76.0</td>\n",
       "      <td>63.0</td>\n",
       "      <td>NaN</td>\n",
       "      <td>NaN</td>\n",
       "      <td>NaN</td>\n",
       "      <td>NaN</td>\n",
       "      <td>NaN</td>\n",
       "    </tr>\n",
       "    <tr>\n",
       "      <th>Massachusetts</th>\n",
       "      <td>61238900.0</td>\n",
       "      <td>15371543.0</td>\n",
       "      <td>15012062.0</td>\n",
       "      <td>8980225.0</td>\n",
       "      <td>4145406.0</td>\n",
       "      <td>4294491.0</td>\n",
       "      <td>2913481.0</td>\n",
       "      <td>2723903.0</td>\n",
       "      <td>1583103.0</td>\n",
       "    </tr>\n",
       "    <tr>\n",
       "      <th>New Hampshire</th>\n",
       "      <td>2960100.0</td>\n",
       "      <td>1226227.0</td>\n",
       "      <td>1286312.0</td>\n",
       "      <td>725454.0</td>\n",
       "      <td>229870.0</td>\n",
       "      <td>263360.0</td>\n",
       "      <td>44701.0</td>\n",
       "      <td>55161.0</td>\n",
       "      <td>70960.0</td>\n",
       "    </tr>\n",
       "    <tr>\n",
       "      <th>New Jersey</th>\n",
       "      <td>14900.0</td>\n",
       "      <td>305.0</td>\n",
       "      <td>1581.0</td>\n",
       "      <td>875.0</td>\n",
       "      <td>1015.0</td>\n",
       "      <td>138.0</td>\n",
       "      <td>71.0</td>\n",
       "      <td>1030.0</td>\n",
       "      <td>NaN</td>\n",
       "    </tr>\n",
       "    <tr>\n",
       "      <th>Rhode Island</th>\n",
       "      <td>3009300.0</td>\n",
       "      <td>279089.0</td>\n",
       "      <td>408866.0</td>\n",
       "      <td>271417.0</td>\n",
       "      <td>290386.0</td>\n",
       "      <td>195072.0</td>\n",
       "      <td>138926.0</td>\n",
       "      <td>209647.0</td>\n",
       "      <td>113229.0</td>\n",
       "    </tr>\n",
       "  </tbody>\n",
       "</table>\n",
       "</div>"
      ],
      "text/plain": [
       "year                 1988        2010        2011       2012       2013  \\\n",
       "state                                                                     \n",
       "Connecticut      255500.0      5673.0         2.0     7256.0       39.0   \n",
       "Maine           8104100.0    748131.0    814077.0   492714.0   286298.0   \n",
       "Maryland              NaN       136.0        76.0       63.0        NaN   \n",
       "Massachusetts  61238900.0  15371543.0  15012062.0  8980225.0  4145406.0   \n",
       "New Hampshire   2960100.0   1226227.0   1286312.0   725454.0   229870.0   \n",
       "New Jersey        14900.0       305.0      1581.0      875.0     1015.0   \n",
       "Rhode Island    3009300.0    279089.0    408866.0   271417.0   290386.0   \n",
       "\n",
       "year                2014       2015       2016       2017  \n",
       "state                                                      \n",
       "Connecticut        523.0     1968.0    25660.0      937.0  \n",
       "Maine           404122.0   254594.0   166081.0    80572.0  \n",
       "Maryland             NaN        NaN        NaN        NaN  \n",
       "Massachusetts  4294491.0  2913481.0  2723903.0  1583103.0  \n",
       "New Hampshire   263360.0    44701.0    55161.0    70960.0  \n",
       "New Jersey         138.0       71.0     1030.0        NaN  \n",
       "Rhode Island    195072.0   138926.0   209647.0   113229.0  "
      ]
     },
     "execution_count": 23,
     "metadata": {},
     "output_type": "execute_result"
    }
   ],
   "source": [
    "yrstp = yrstl.pivot(index='state', columns='year', values='pounds')\n",
    "yrstp.head(n=7)"
   ]
  },
  {
   "cell_type": "code",
   "execution_count": 19,
   "metadata": {},
   "outputs": [],
   "source": [
    "ME = yrstp.loc['Maine']\n",
    "MA = yrstp.loc['Massachusetts']\n",
    "CT = yrstp.loc['Connecticut']\n",
    "RI = yrstp.loc['Rhode Island']\n",
    "NH = yrstp.loc['New Hampshire']\n",
    "NJ = yrstp.loc['New Jersey']\n",
    "MD = yrstp.loc['Maryland']\n",
    "yrsp = yrstp.columns"
   ]
  },
  {
   "cell_type": "code",
   "execution_count": 29,
   "metadata": {},
   "outputs": [
    {
     "data": {
      "text/plain": [
       "<matplotlib.legend.Legend at 0x21d85fd99e8>"
      ]
     },
     "execution_count": 29,
     "metadata": {},
     "output_type": "execute_result"
    },
    {
     "data": {
      "image/png": "[encoded data removed]",
      "text/plain": [
       "<Figure size 432x288 with 1 Axes>"
      ]
     },
     "metadata": {
      "needs_background": "light"
     },
     "output_type": "display_data"
    }
   ],
   "source": [
    "plt.plot(yrsp, MA, 'g--')\n",
    "plt.plot(yrsp, ME, 'b--')\n",
    "plt.plot(yrsp, CT, 'r--')\n",
    "plt.plot(yrsp, RI, 'c--')\n",
    "plt.plot(yrsp, NH, 'm--')\n",
    "plt.plot(yrsp, NJ, 'y--')\n",
    "plt.plot(yrsp, MD, 'k--')\n",
    "plt.ylabel('Pounds of Atlantic Cod (in millions)')\n",
    "plt.xlabel('Fishing Year')\n",
    "plt.legend()"
   ]
  },
  {
   "cell_type": "code",
   "execution_count": null,
   "metadata": {},
   "outputs": [],
   "source": []
  }
 ],
 "metadata": {
  "kernelspec": {
   "display_name": "Python 3",
   "language": "python",
   "name": "python3"
  },
  "language_info": {
   "codemirror_mode": {
    "name": "ipython",
    "version": 3
   },
   "file_extension": ".py",
   "mimetype": "text/x-python",
   "name": "python",
   "nbconvert_exporter": "python",
   "pygments_lexer": "ipython3",
   "version": "3.7.3"
  }
 },
 "nbformat": 4,
 "nbformat_minor": 2
}
